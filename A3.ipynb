{
 "cells": [
  {
   "cell_type": "code",
   "execution_count": null,
   "id": "f9fd840e-2f11-4699-ad8a-0d6ec91d1cb8",
   "metadata": {},
   "outputs": [],
   "source": [
    "\n",
    "\n",
    "\n",
    "\n",
    "!pip install torch\n",
    "import numpy as np\n",
    "import torch.nn.functional as F\n",
    "import torch\n",
    "import torch.nn as nn\n",
    "import torchvision.transforms as transforms\n",
    "import torch.optim as optim\n",
    "import torchvision\n",
    "\n",
    "\n",
    "\n",
    "\n",
    "\n"
   ]
  },
  {
   "cell_type": "code",
   "execution_count": null,
   "id": "a680bb41-5690-4b4e-bb6a-0c5e831ca0b3",
   "metadata": {},
   "outputs": [],
   "source": [
    "\n",
    "\n",
    "transform = transforms.Compose(\n",
    "    [transforms.ToTensor(),     transforms.Normalize((0.5, 0.5, 0.5), (0.5, 0.5, 0.5))])\n",
    "batch_size = 1\n",
    "\n",
    "trainset = torchvision.datasets.CIFAR10(root='./data', train=True,\n",
    "                                        download=True, transform=transform)\n",
    "trainloader = torch.utils.data.DataLoader(trainset, batch_size=batch_size,\n",
    "                                          shuffle=True, num_workers=2)\n",
    "\n",
    "testset = torchvision.datasets.CIFAR10(root='./data', train=False,\n",
    "                                       download=True, transform=transform)\n",
    "testloader = torch.utils.data.DataLoader(testset, batch_size=batch_size,\n",
    "                                         shuffle=False, num_workers=2)\n",
    "\n"
   ]
  },
  {
   "cell_type": "code",
   "execution_count": null,
   "id": "00bc585b-3148-432d-b2cd-ce2e1f68e085",
   "metadata": {},
   "outputs": [],
   "source": [
    "\n",
    "class CNNet(nn.Module):\n",
    "    def __init__(self):\n",
    "        super(CNNet,self).__init__()\n",
    "        self.conv1 = nn.Conv2d(3, 10, 7)\n",
    "        self.pool1 = nn.MaxPool2d(2,stride=1)\n",
    "        self.conv2 = nn.Conv2d(10, 21, 5)\n",
    "        self.pool2=nn.MaxPool2d(4,stride=2)\n",
    "        self.fc= nn.Linear(1701, 10)\n",
    "        \n",
    "        \n",
    "    def forward(self,x):\n",
    "        x = self.pool1(F.relu(self.conv1(x)))\n",
    "        x = self.pool2(F.relu(self.conv2(x)))\n",
    "        x = torch.flatten(x, 1) # flatten all dimensions except batch\n",
    "        x = self.fc(x)\n",
    "        return x\n"
   ]
  },
  {
   "cell_type": "code",
   "execution_count": null,
   "id": "c77227e0-d447-4071-b5de-66ebdc03ccae",
   "metadata": {},
   "outputs": [],
   "source": [
    "\n",
    "net = CNNet()\n",
    "criterion = nn.CrossEntropyLoss()\n",
    "optimizer = optim.SGD(net.parameters(), lr=0.001, momentum=0.9)\n",
    "\n",
    "n_epochs=2\n",
    "loss_list=[]\n",
    "tot_loss=0\n"
   ]
  },
  {
   "cell_type": "code",
   "execution_count": null,
   "id": "978e9dd6-fd80-4059-94cd-5fc955612896",
   "metadata": {},
   "outputs": [],
   "source": [
    "#n_epochs\n",
    "for epoch in range(n_epochs):\n",
    "      for i, data in enumerate(trainloader, 0):\n",
    "            inputs, labels = data\n",
    "            #clear gradient \n",
    "            optimizer.zero_grad()\n",
    "            #make a prediction \n",
    "            z=net(inputs)\n",
    "            loss=criterion(z,labels)\n",
    "            # calculate gradients of parameters \n",
    "            loss.backward()\n",
    "            # update parameters \n",
    "            optimizer.step()\n",
    "\n",
    "            loss_list.append(loss.data)\n",
    "            tot_loss+=loss.data\n",
    "            if(i%2000==1999):\n",
    "                  print(f'[{epoch+1}, {i+1:5d}] loss: {tot_loss/len(loss_list)}')\n"
   ]
  },
  {
   "cell_type": "code",
   "execution_count": null,
   "id": "2798f0c8-05f6-4bf6-86d0-475dc73d4cdb",
   "metadata": {},
   "outputs": [],
   "source": [
    "\n",
    "correct = 0\n",
    "total = 0\n",
    "with torch.no_grad():\n",
    "    for data in testloader:\n",
    "        images, labels = data\n",
    "        outputs = net(images)\n",
    "        _, predicted = torch.max(outputs.data, 1)\n",
    "        total += labels.size(0)\n",
    "        correct += (predicted == labels).sum().item()\n",
    "\n",
    "print(f'Accuracy is: {100 * correct // total} %')\n",
    "\n"
   ]
  },
  {
   "cell_type": "code",
   "execution_count": null,
   "id": "ab1cfbff-405a-489c-b20e-a34a11cebe21",
   "metadata": {},
   "outputs": [],
   "source": []
  },
  {
   "cell_type": "code",
   "execution_count": null,
   "id": "6d5391a7-7d97-4b37-b0e0-eab90fbb357c",
   "metadata": {},
   "outputs": [],
   "source": []
  },
  {
   "cell_type": "code",
   "execution_count": null,
   "id": "2dcd0b6b-fb71-48f7-968e-f8ce867bac35",
   "metadata": {},
   "outputs": [],
   "source": []
  }
 ],
 "metadata": {
  "kernelspec": {
   "display_name": "Python 3 (ipykernel)",
   "language": "python",
   "name": "python3"
  },
  "language_info": {
   "codemirror_mode": {
    "name": "ipython",
    "version": 3
   },
   "file_extension": ".py",
   "mimetype": "text/x-python",
   "name": "python",
   "nbconvert_exporter": "python",
   "pygments_lexer": "ipython3",
   "version": "3.9.12"
  }
 },
 "nbformat": 4,
 "nbformat_minor": 5
}
